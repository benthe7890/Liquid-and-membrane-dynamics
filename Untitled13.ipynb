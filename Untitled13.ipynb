{
  "nbformat": 4,
  "nbformat_minor": 0,
  "metadata": {
    "colab": {
      "provenance": [],
      "authorship_tag": "ABX9TyOvnwHEvGDz5h8bkR/Wiu/S",
      "include_colab_link": true
    },
    "kernelspec": {
      "name": "python3",
      "display_name": "Python 3"
    },
    "language_info": {
      "name": "python"
    }
  },
  "cells": [
    {
      "cell_type": "markdown",
      "metadata": {
        "id": "view-in-github",
        "colab_type": "text"
      },
      "source": [
        "<a href=\"https://colab.research.google.com/github/benthe7890/Membrane-dynamics-to-model-financial-markets/blob/main/Untitled13.ipynb\" target=\"_parent\"><img src=\"https://colab.research.google.com/assets/colab-badge.svg\" alt=\"Open In Colab\"/></a>"
      ]
    },
    {
      "cell_type": "markdown",
      "source": [
        "numerical simulation for ficks law to model the propagation speed as diffuvity in a market"
      ],
      "metadata": {
        "id": "HcM6UnzdgO-K"
      }
    },
    {
      "cell_type": "code",
      "execution_count": 22,
      "metadata": {
        "colab": {
          "base_uri": "https://localhost:8080/",
          "height": 118
        },
        "id": "QXGgVXV_gE31",
        "outputId": "0f09df3b-b298-4664-b17a-a36ead4f5ea5"
      },
      "outputs": [
        {
          "output_type": "display_data",
          "data": {
            "text/plain": [
              "<Figure size 1500x400 with 20 Axes>"
            ],
            "image/png": "[encoded data removed]"
          },
          "metadata": {}
        }
      ],
      "source": [
        "import numpy as np\n",
        "import matplotlib.pyplot as plt\n",
        "\n",
        "# Parameters\n",
        "grid_size = 100\n",
        "D = 0.1  # diffusion coefficient\n",
        "dt = 0.1\n",
        "dx = 1.0\n",
        "T = 20  # total time\n",
        "\n",
        "# Initialize grid\n",
        "C = np.zeros((grid_size, grid_size))\n",
        "C[grid_size//2, grid_size//2] = 100  # initial concentration at center\n",
        "\n",
        "def laplacian(Z):\n",
        "    return (\n",
        "        -4 * Z\n",
        "        + np.roll(Z, 1, axis=0)\n",
        "        + np.roll(Z, -1, axis=0)\n",
        "        + np.roll(Z, 1, axis=1)\n",
        "        + np.roll(Z, -1, axis=1)\n",
        "    ) / (dx ** 2)\n",
        "\n",
        "# Time evolution\n",
        "frames = []\n",
        "for t in range(int(T/dt)):\n",
        "    C += D * laplacian(C) * dt\n",
        "    if t % 5 == 0:\n",
        "        frames.append(C.copy())\n",
        "\n",
        "\n",
        "def plot_diffusion(frames):\n",
        "    fig, axes = plt.subplots(1, len(frames), figsize=(15, 4))\n",
        "    for i, frame in enumerate(frames):\n",
        "        axes[i].imshow(frame, cmap='viridis', origin='lower')\n",
        "        axes[i].set_title(f'Time {i*10*d  t:.1f}')\n",
        "        axes[i].axis('off')\n",
        "    plt.tight_layout()\n",
        "    plt.show()\n",
        "\n",
        "plot_diffusion(frames[:20])"
      ]
    },
    {
      "cell_type": "markdown",
      "source": [
        "This is a faily basic prepresentation of how price pressure would spread out from one point. To make this simulation more advanced and accurate it is time to move to model our space as a graph opposed to a 2d cartesian coodinate set.\n"
      ],
      "metadata": {
        "id": "V0HnKbLAhm5o"
      }
    },
    {
      "cell_type": "markdown",
      "source": [
        "The diffusion like propagation equation then changes to a graph laplace diffusion model."
      ],
      "metadata": {
        "id": "JpvHaLOdsJkl"
      }
    },
    {
      "cell_type": "code",
      "source": [
        "import networkx as nx\n",
        "import matplotlib.pyplot as plt\n",
        "import numpy as np\n",
        "\n",
        "\n",
        "G = nx.Graph()\n",
        "G.add_edge(\"A\", \"B\", weight=0.5)\n",
        "G.add_edge(\"A\", \"C\", weight=-0.3)\n",
        "G.add_edge(\"A\", \"D\", weight=-0.1)\n",
        "G.add_edge(\"B\", \"A\", weight=0.7)\n",
        "G.add_edge(\"B\", \"C\", weight=-0.5)\n",
        "G.add_edge(\"B\", \"D\", weight=0.3)\n",
        "G.add_edge(\"C\", \"A\", weight=0.8)\n",
        "G.add_edge(\"C\", \"B\", weight=-0.6)\n",
        "G.add_edge(\"C\", \"D\", weight=-0.2)\n",
        "G.add_edge(\"D\", \"A\", weight=0.1)\n",
        "G.add_edge(\"D\", \"B\", weight=0.4)\n",
        "G.add_edge(\"D\", \"C\", weight=-0.2)\n",
        "\n",
        "L = nx.laplacian_matrix(G).todense()\n",
        "\n",
        "C = np.array([1.0, 0.0, 4.0, 0.0])\n",
        "\n",
        "for t in range(10):\n",
        "  C = L @ C\n",
        "  dC_dt = -L @ C\n",
        "  eigvals = np.linalg.eigvals(L)\n",
        "  print(eigvals)\n",
        "  print(dC_dt)"
      ],
      "metadata": {
        "colab": {
          "base_uri": "https://localhost:8080/"
        },
        "id": "gLPN1vs1tBTF",
        "outputId": "224af773-da09-4924-bba2-c001727bfe87"
      },
      "execution_count": 1,
      "outputs": [
        {
          "output_type": "stream",
          "name": "stdout",
          "text": [
            "[ 2.35290696e+00  6.41090020e-01  1.70064470e-16 -5.93996982e-01]\n",
            "[ 3.18 -1.21 -2.44  0.47]\n",
            "[ 2.35290696e+00  6.41090020e-01  1.70064470e-16 -5.93996982e-01]\n",
            "[ 7.84  -4.483 -3.176 -0.181]\n",
            "[ 2.35290696e+00  6.41090020e-01  1.70064470e-16 -5.93996982e-01]\n",
            "[18.241  -9.5627 -8.998   0.3197]\n",
            "[ 2.35290696e+00  6.41090020e-01  1.70064470e-16 -5.93996982e-01]\n",
            "[ 43.04592 -23.07673 -20.26648   0.29729]\n",
            "[ 2.35290696e+00  6.41090020e-01  1.70064470e-16 -5.93996982e-01]\n",
            "[101.210638 -53.949313 -48.223316   0.961991]\n",
            "[ 2.35290696e+00  6.41090020e-01  1.70064470e-16 -5.93996982e-01]\n",
            "[ 238.1839936 -127.1408891 -113.1457       2.1025955]\n",
            "[ 2.35290696e+00  6.41090020e-01  1.70064470e-16 -5.93996982e-01]\n",
            "[ 560.39931258 -299.02769827 -266.41120924    5.03959493]\n",
            "[ 2.35290696e+00  6.41090020e-01  1.70064470e-16 -5.93996982e-01]\n",
            "[1318.58329682 -703.65593146 -626.72815004   11.80078468]\n",
            "[ 2.35290696e+00  6.41090020e-01  1.70064470e-16 -5.93996982e-01]\n",
            "[ 3102.49486849 -1655.5934774  -1474.70003939    27.7986483 ]\n",
            "[ 2.35290696e+00  6.41090020e-01  1.70064470e-16 -5.93996982e-01]\n",
            "[ 7299.88739044 -3895.48262959 -3469.79225157    65.38749072]\n"
          ]
        }
      ]
    },
    {
      "cell_type": "markdown",
      "source": [
        "It should be noted with the code above the graph is not symmetric and uses negative weights. The graph with those values are also unstabel, which would indicate a positive feedback loop, in real terms leading to economic instability. Although the weight could most likey be trained with a GNN."
      ],
      "metadata": {
        "id": "LByrWjsYToAd"
      }
    },
    {
      "cell_type": "markdown",
      "source": [
        "For an indication of the change in volatility/ stocahsitc shift within the connected markets we will have add some extra parameters of vaoltility, but the mathematics of the market movements is still the same as shown above."
      ],
      "metadata": {
        "id": "e-r6aSyGakQy"
      }
    },
    {
      "cell_type": "code",
      "source": [
        "import numpy as np\n",
        "import networkx as nx\n",
        "import matplotlib.pyplot as plt\n",
        "\n",
        "def simulate_volatility_diffusion(simulaitry_matrix, initial_volatility, dt= 0.1, T = 10, plot = False):\n",
        "  n = len(initial_volatility)\n",
        "  G = nx.from_numpy_array(simulaitry_matrix)\n",
        "  L = nx.laplacian_matrix(G).todense()\n",
        "\n",
        "  V = np.array(initial_volatility)\n",
        "  V_t = [V.copy()]\n",
        "  for _ in range(int(T/dt)):\n",
        "    dV_dt = -L @ V\n",
        "    V += dV_dt * dt\n",
        "    V_t.append(V.copy())\n",
        "\n",
        "\n",
        "  if plot:\n",
        "    V_t = np.array(V_t)\n",
        "    plt.figure(figsize=(10, 6))\n",
        "    for i in range(n):\n",
        "        plt.plot(V_t[:, i], label=f'Market {i + 1}')\n",
        "    plt.title('Volatility Diffusion')\n",
        "    plt.xlabel('Time')\n",
        "    plt.ylabel('Volatility')\n",
        "    plt.legend()\n",
        "    plt.show()\n",
        "\n",
        "  return V_t\n",
        "\n",
        "#Now to put in an example similarity matrix to test out the volatility change\n",
        "\n",
        "similarity = np.array([\n",
        "  [ 0.0, 0.9, 0.4],\n",
        "  [ 0.9, 0.0, 0.5],\n",
        "  [ 0.4, 0.5, 0.0]])\n",
        "\n",
        "inital_volatility = [0.1, 0.2, 0.3]\n",
        "\n",
        "\n",
        "simulate_volatility_diffusion(similarity, inital_volatility, dt=0.1, T=10, plot=True)"
      ],
      "metadata": {
        "colab": {
          "base_uri": "https://localhost:8080/",
          "height": 1000
        },
        "id": "K7ygq5aUajVs",
        "outputId": "d2d16e4d-c8c7-43c5-9e3f-e1ffa2200b13"
      },
      "execution_count": 8,
      "outputs": [
        {
          "output_type": "display_data",
          "data": {
            "text/plain": [
              "<Figure size 1000x600 with 1 Axes>"
            ],
            "image/png": "[encoded data removed]"
          },
          "metadata": {}
        },
        {
          "output_type": "execute_result",
          "data": {
            "text/plain": [
              "array([[0.1       , 0.2       , 0.3       ],\n",
              "       [0.117     , 0.196     , 0.287     ],\n",
              "       [0.13091   , 0.19344   , 0.27565   ],\n",
              "       [0.1423273 , 0.1919228 , 0.2657499 ],\n",
              "       [0.1517278 , 0.19115056, 0.25712164],\n",
              "       [0.1594916 , 0.19090107, 0.24960733],\n",
              "       [0.16592308, 0.19100953, 0.24306739],\n",
              "       [0.17126663, 0.19135464, 0.23737873],\n",
              "       [0.17571904, 0.19184792, 0.23243304],\n",
              "       [0.1794392 , 0.19242558, 0.22813522],\n",
              "       [0.18255581, 0.19304229, 0.2244019 ],\n",
              "       [0.18517344, 0.19366649, 0.22116007],\n",
              "       [0.18737728, 0.19427679, 0.21834593],\n",
              "       [0.18923698, 0.19485929, 0.21590373],\n",
              "       [0.19080966, 0.19540551, 0.21378484],\n",
              "       [0.19214229, 0.19591085, 0.21194686],\n",
              "       [0.19327364, 0.19637348, 0.21035288],\n",
              "       [0.1942358 , 0.19679346, 0.20897074],\n",
              "       [0.19505539, 0.19717214, 0.20777248],\n",
              "       [0.19575458, 0.19751165, 0.20673378],\n",
              "       [0.19635188, 0.19781462, 0.2058335 ],\n",
              "       [0.19686279, 0.19808391, 0.20505329],\n",
              "       [0.19730031, 0.19832248, 0.2043772 ],\n",
              "       [0.19767538, 0.19853322, 0.20379139],\n",
              "       [0.19799723, 0.19871893, 0.20328384],\n",
              "       [0.19827365, 0.19888222, 0.20284413],\n",
              "       [0.19851124, 0.19902554, 0.20246322],\n",
              "       [0.1987156 , 0.19915114, 0.20213326],\n",
              "       [0.19889151, 0.19926105, 0.20184744],\n",
              "       [0.199043  , 0.19935711, 0.20159989],\n",
              "       [0.19917355, 0.19944098, 0.20138547],\n",
              "       [0.1992861 , 0.19951413, 0.20119977],\n",
              "       [0.19938317, 0.19957789, 0.20103894],\n",
              "       [0.19946692, 0.19963342, 0.20089966],\n",
              "       [0.19953922, 0.19968175, 0.20077904],\n",
              "       [0.19960164, 0.19972378, 0.20067458],\n",
              "       [0.19965555, 0.19976033, 0.20058412],\n",
              "       [0.19970212, 0.19979209, 0.20050579],\n",
              "       [0.19974237, 0.19981968, 0.20043796],\n",
              "       [0.19977715, 0.19984363, 0.20037922],\n",
              "       [0.19980721, 0.19986443, 0.20032836],\n",
              "       [0.19983321, 0.19988248, 0.20028432],\n",
              "       [0.19985569, 0.19989813, 0.20024618],\n",
              "       [0.19987513, 0.19991172, 0.20021316],\n",
              "       [0.19989194, 0.19992349, 0.20018456],\n",
              "       [0.19990649, 0.19993371, 0.20015981],\n",
              "       [0.19991907, 0.19994256, 0.20013837],\n",
              "       [0.19992996, 0.19995024, 0.20011981],\n",
              "       [0.19993937, 0.19995689, 0.20010373],\n",
              "       [0.19994753, 0.19996266, 0.20008982],\n",
              "       [0.19995458, 0.19996765, 0.20007777],\n",
              "       [0.19996068, 0.19997198, 0.20006733],\n",
              "       [0.19996597, 0.19997573, 0.2000583 ],\n",
              "       [0.19997054, 0.19997898, 0.20005048],\n",
              "       [0.1999745 , 0.1999818 , 0.20004371],\n",
              "       [0.19997792, 0.19998424, 0.20003784],\n",
              "       [0.19998089, 0.19998635, 0.20003277],\n",
              "       [0.19998345, 0.19998818, 0.20002837],\n",
              "       [0.19998568, 0.19998976, 0.20002456],\n",
              "       [0.1999876 , 0.19999113, 0.20002127],\n",
              "       [0.19998926, 0.19999232, 0.20001841],\n",
              "       [0.1999907 , 0.19999335, 0.20001594],\n",
              "       [0.19999195, 0.19999424, 0.2000138 ],\n",
              "       [0.19999303, 0.19999502, 0.20001195],\n",
              "       [0.19999397, 0.19999568, 0.20001035],\n",
              "       [0.19999478, 0.19999626, 0.20000896],\n",
              "       [0.19999548, 0.19999676, 0.20000776],\n",
              "       [0.19999609, 0.1999972 , 0.20000672],\n",
              "       [0.19999661, 0.19999757, 0.20000582],\n",
              "       [0.19999707, 0.1999979 , 0.20000504],\n",
              "       [0.19999746, 0.19999818, 0.20000436],\n",
              "       [0.1999978 , 0.19999842, 0.20000377],\n",
              "       [0.1999981 , 0.19999864, 0.20000327],\n",
              "       [0.19999835, 0.19999882, 0.20000283],\n",
              "       [0.19999857, 0.19999898, 0.20000245],\n",
              "       [0.19999876, 0.19999911, 0.20000212],\n",
              "       [0.19999893, 0.19999923, 0.20000184],\n",
              "       [0.19999907, 0.19999934, 0.20000159],\n",
              "       [0.1999992 , 0.19999943, 0.20000138],\n",
              "       [0.19999931, 0.1999995 , 0.20000119],\n",
              "       [0.1999994 , 0.19999957, 0.20000103],\n",
              "       [0.19999948, 0.19999963, 0.20000089],\n",
              "       [0.19999955, 0.19999968, 0.20000077],\n",
              "       [0.19999961, 0.19999972, 0.20000067],\n",
              "       [0.19999966, 0.19999976, 0.20000058],\n",
              "       [0.19999971, 0.19999979, 0.2000005 ],\n",
              "       [0.19999975, 0.19999982, 0.20000043],\n",
              "       [0.19999978, 0.19999984, 0.20000038],\n",
              "       [0.19999981, 0.19999986, 0.20000033],\n",
              "       [0.19999984, 0.19999988, 0.20000028],\n",
              "       [0.19999986, 0.1999999 , 0.20000024],\n",
              "       [0.19999988, 0.19999991, 0.20000021],\n",
              "       [0.19999989, 0.19999992, 0.20000018],\n",
              "       [0.19999991, 0.19999993, 0.20000016],\n",
              "       [0.19999992, 0.19999994, 0.20000014],\n",
              "       [0.19999993, 0.19999995, 0.20000012],\n",
              "       [0.19999994, 0.19999996, 0.2000001 ],\n",
              "       [0.19999995, 0.19999996, 0.20000009],\n",
              "       [0.19999996, 0.19999997, 0.20000008],\n",
              "       [0.19999996, 0.19999997, 0.20000007],\n",
              "       [0.19999997, 0.19999998, 0.20000006]])"
            ]
          },
          "metadata": {},
          "execution_count": 8
        }
      ]
    }
  ]
}